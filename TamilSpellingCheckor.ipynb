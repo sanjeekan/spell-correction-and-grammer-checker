{
 "cells": [
  {
   "cell_type": "code",
   "execution_count": 13,
   "metadata": {},
   "outputs": [
    {
     "name": "stdout",
     "output_type": "stream",
     "text": [
      "Requirement already satisfied: fuzzywuzzy in c:\\users\\strangers\\appdata\\local\\programs\\python\\python313\\lib\\site-packages (0.18.0)\n",
      "Note: you may need to restart the kernel to use updated packages.\n"
     ]
    }
   ],
   "source": [
    "pip install fuzzywuzzy"
   ]
  },
  {
   "cell_type": "code",
   "execution_count": 24,
   "metadata": {},
   "outputs": [
    {
     "name": "stdout",
     "output_type": "stream",
     "text": [
      "Requirement already satisfied: python-Levenshtein in c:\\users\\strangers\\appdata\\local\\programs\\python\\python313\\lib\\site-packages (0.26.1)\n",
      "Requirement already satisfied: Levenshtein==0.26.1 in c:\\users\\strangers\\appdata\\local\\programs\\python\\python313\\lib\\site-packages (from python-Levenshtein) (0.26.1)\n",
      "Requirement already satisfied: rapidfuzz<4.0.0,>=3.9.0 in c:\\users\\strangers\\appdata\\local\\programs\\python\\python313\\lib\\site-packages (from Levenshtein==0.26.1->python-Levenshtein) (3.10.1)\n",
      "Note: you may need to restart the kernel to use updated packages.\n"
     ]
    }
   ],
   "source": [
    "pip install python-Levenshtein"
   ]
  },
  {
   "cell_type": "code",
   "execution_count": 50,
   "metadata": {},
   "outputs": [
    {
     "name": "stdout",
     "output_type": "stream",
     "text": [
      "Corrected Paragraph 1: தமி குடக்குழி கல மறி ஈறுகட்டி மை இலகடம் கயம் மை கபி பூ ரு யே சோ லோ தேவமேரையாய் கொ மை\n",
      "Accuracy of paragraph 1: 0.00%\n",
      "\n",
      "Corrected Paragraph 2: மகீ களி கல வி பூ ஈறுகட்டி வதறுதல் கொ படைச்சனம் மை இயற்றமிழ் சகி லோ ஈடை படி டீ தகளி ரு\n",
      "Accuracy of paragraph 2: 0.00%\n",
      "\n"
     ]
    }
   ],
   "source": [
    "import re\n",
    "from fuzzywuzzy import process\n",
    "\n",
    "# Load Tamil words from your dataset\n",
    "def load_tamil_words(dataset_path):\n",
    "    with open(dataset_path, 'r', encoding='utf-8') as file:\n",
    "        tamil_words = set(file.read().splitlines())  # Read words and store them in a set for quick lookup\n",
    "    return tamil_words\n",
    "\n",
    "# Function to correct spelling with an increased threshold for fuzzy matching\n",
    "def correct_spelling(word, tamil_words, threshold=90):  # Increase threshold for stricter matching\n",
    "    closest_word, score = process.extractOne(word, tamil_words)  # Fuzzy matching\n",
    "    return closest_word if score >= threshold else word  # Only correct if score is high enough\n",
    "\n",
    "# Function to correct a paragraph\n",
    "def correct_paragraph(paragraph, tamil_words):\n",
    "    words = re.findall(r'\\w+', paragraph)  # Extract words from the paragraph\n",
    "    corrected_words = [correct_spelling(word, tamil_words) for word in words]  # Correct each word\n",
    "    corrected_paragraph = ' '.join(corrected_words)  # Join words back into a paragraph\n",
    "    return corrected_paragraph\n",
    "\n",
    "# Function to calculate accuracy based on corrected words\n",
    "def calculate_accuracy(original, corrected):\n",
    "    original_words = original.split()\n",
    "    corrected_words = corrected.split()\n",
    "    \n",
    "    # Count how many words were actually corrected\n",
    "    corrected_count = sum(1 for orig, corr in zip(original_words, corrected_words) if orig != corr)\n",
    "    accuracy = (1 - corrected_count / len(original_words)) * 100 if original_words else 0\n",
    "    return accuracy\n",
    "\n",
    "# Test the spell checker\n",
    "def test_spell_checker(paragraphs, dataset_path):\n",
    "    # Load Tamil words and initialize the spell checker\n",
    "    tamil_words = load_tamil_words(dataset_path)\n",
    "\n",
    "    results = []\n",
    "    for paragraph in paragraphs:\n",
    "        corrected_paragraph = correct_paragraph(paragraph, tamil_words)\n",
    "        accuracy = calculate_accuracy(paragraph, corrected_paragraph)\n",
    "        results.append((corrected_paragraph, accuracy))\n",
    "    \n",
    "    return results\n",
    "\n",
    "# Example usage\n",
    "dataset_path = r'C:\\Users\\STRANGERS\\Desktop\\Semester 7 - 2024\\EC9640-Artificial Intelligence\\Project\\TamilWordsDataset.txt'\n",
    "# Example paragraphs to test (replace with your actual paragraphs)\n",
    "paragraphs = [\n",
    "    \"தமிழ் கலை மற்றும் இலக்கயம் மிகப்பெரிய செல்வமாகும்.\",\n",
    "    \"மக்கள் கல்வி பெறுவதற்கான முயற்சகளில் ஈடுபட்டுள்ளனர்.\",\n",
    "]\n",
    "results = test_spell_checker(paragraphs, dataset_path)\n",
    "\n",
    "# Print only corrected paragraph and accuracy for each paragraph\n",
    "for i, (corrected, acc) in enumerate(results, 1):\n",
    "    print(f\"Corrected Paragraph {i}: {corrected}\")\n",
    "    print(f\"Accuracy of paragraph {i}: {acc:.2f}%\\n\")\n"
   ]
  }
 ],
 "metadata": {
  "kernelspec": {
   "display_name": "Python 3",
   "language": "python",
   "name": "python3"
  },
  "language_info": {
   "codemirror_mode": {
    "name": "ipython",
    "version": 3
   },
   "file_extension": ".py",
   "mimetype": "text/x-python",
   "name": "python",
   "nbconvert_exporter": "python",
   "pygments_lexer": "ipython3",
   "version": "3.13.0"
  }
 },
 "nbformat": 4,
 "nbformat_minor": 2
}
